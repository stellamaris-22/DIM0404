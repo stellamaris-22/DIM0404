{
 "cells": [
  {
   "cell_type": "code",
   "execution_count": 1,
   "id": "0d24ae5d-79b8-4a16-836a-13ee5eecfd7b",
   "metadata": {},
   "outputs": [],
   "source": [
    "import numpy as np\n",
    "import sympy\n",
    "import matplotlib.pyplot as plt"
   ]
  },
  {
   "cell_type": "code",
   "execution_count": 2,
   "id": "df9f134c-02f8-4ede-860e-4b5f2e15d3b4",
   "metadata": {},
   "outputs": [],
   "source": [
    "def f(x):\n",
    "    if x <= -1:\n",
    "        return x+1\n",
    "    elif x <= 2:\n",
    "        return -x**2+2\n",
    "    else:\n",
    "        return x"
   ]
  },
  {
   "cell_type": "code",
   "execution_count": 3,
   "id": "a43bcd13-72e1-4a50-a26c-06b5f7b4d22a",
   "metadata": {},
   "outputs": [
    {
     "data": {
      "image/png": "[encoded data removed]",
      "text/plain": [
       "<Figure size 640x480 with 1 Axes>"
      ]
     },
     "metadata": {},
     "output_type": "display_data"
    }
   ],
   "source": [
    "x = np.arange(-5, 5, 0.1)\n",
    "y = []\n",
    "for i in x:\n",
    "    y.append(f(i))\n",
    "plt.title(\"1.\") \n",
    "plt.xlabel(\"x\") \n",
    "plt.ylabel(\"f(x)\") \n",
    "plt.plot(x,y) \n",
    "plt.show()"
   ]
  },
  {
   "cell_type": "code",
   "execution_count": 4,
   "id": "690e9625-b610-452b-beeb-ed66f36cb2ff",
   "metadata": {},
   "outputs": [
    {
     "name": "stdout",
     "output_type": "stream",
     "text": [
      "2.1\n"
     ]
    },
    {
     "data": {
      "text/latex": [
       "$\\displaystyle 0$"
      ],
      "text/plain": [
       "0"
      ]
     },
     "execution_count": 4,
     "metadata": {},
     "output_type": "execute_result"
    }
   ],
   "source": [
    "print(\"2.1\")\n",
    "\n",
    "lim = sympy.limit(f(-1), x, -1, '-')\n",
    "lim.doit()"
   ]
  },
  {
   "cell_type": "code",
   "execution_count": 5,
   "id": "ecb568d4-2992-48a9-8828-9e462dfde198",
   "metadata": {},
   "outputs": [
    {
     "name": "stdout",
     "output_type": "stream",
     "text": [
      "2.2\n"
     ]
    },
    {
     "data": {
      "text/latex": [
       "$\\displaystyle 2$"
      ],
      "text/plain": [
       "2"
      ]
     },
     "execution_count": 5,
     "metadata": {},
     "output_type": "execute_result"
    }
   ],
   "source": [
    "print(\"2.2\")\n",
    "\n",
    "lim = sympy.limit(f(0), x, 0)\n",
    "lim.doit()"
   ]
  },
  {
   "cell_type": "code",
   "execution_count": 6,
   "id": "01ec5c97-4492-4c30-aa69-2b765109e960",
   "metadata": {},
   "outputs": [
    {
     "name": "stdout",
     "output_type": "stream",
     "text": [
      "2.3\n"
     ]
    },
    {
     "data": {
      "text/latex": [
       "$\\displaystyle 4$"
      ],
      "text/plain": [
       "4"
      ]
     },
     "execution_count": 6,
     "metadata": {},
     "output_type": "execute_result"
    }
   ],
   "source": [
    "print(\"2.3\")\n",
    "\n",
    "lim = sympy.limit(f(4), x, 4)\n",
    "lim.doit()"
   ]
  },
  {
   "cell_type": "code",
   "execution_count": null,
   "id": "09b0a56b-46f6-487f-be35-bab33c5aaa18",
   "metadata": {},
   "outputs": [],
   "source": []
  }
 ],
 "metadata": {
  "kernelspec": {
   "display_name": "Python 3 (ipykernel)",
   "language": "python",
   "name": "python3"
  },
  "language_info": {
   "codemirror_mode": {
    "name": "ipython",
    "version": 3
   },
   "file_extension": ".py",
   "mimetype": "text/x-python",
   "name": "python",
   "nbconvert_exporter": "python",
   "pygments_lexer": "ipython3",
   "version": "3.9.18"
  }
 },
 "nbformat": 4,
 "nbformat_minor": 5
}
